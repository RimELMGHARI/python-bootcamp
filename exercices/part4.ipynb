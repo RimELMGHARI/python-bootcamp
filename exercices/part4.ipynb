{
 "cells": [
  {
   "cell_type": "markdown",
   "id": "47a096ce",
   "metadata": {},
   "source": [
    "### Exercice 1:"
   ]
  },
  {
   "cell_type": "markdown",
   "id": "f4977bb9",
   "metadata": {},
   "source": [
    "Write a Python class named square constructed by a length and two methods which will compute the area and the perimeter of the square."
   ]
  },
  {
   "cell_type": "code",
   "execution_count": 2,
   "id": "48a899aa",
   "metadata": {},
   "outputs": [
    {
     "name": "stdout",
     "output_type": "stream",
     "text": [
      "area of square is  4\n",
      "area of square is  8\n"
     ]
    }
   ],
   "source": [
    "\n",
    "\n",
    "class square():\n",
    "    def __init__(self, lenght):\n",
    "        self.lenght = lenght\n",
    "    \n",
    "    def area(self):\n",
    "        print(\"area of square is \" , self.lenght*self.lenght)\n",
    "\n",
    "    def perimeter(self):\n",
    "        print(\"area of square is \" , 4*self.lenght)\n",
    "pass\n",
    "\n",
    "s1 = square(2)\n",
    "s1.area()\n",
    "s1.perimeter()"
   ]
  },
  {
   "cell_type": "markdown",
   "id": "63d320bf",
   "metadata": {},
   "source": [
    "### Exercice 2:"
   ]
  },
  {
   "cell_type": "markdown",
   "id": "2ac6a965",
   "metadata": {},
   "source": [
    "Write a python class rectangle that inherits from the square class."
   ]
  },
  {
   "cell_type": "code",
   "execution_count": 21,
   "id": "007adc0d",
   "metadata": {},
   "outputs": [],
   "source": [
    "class rectangle(square):\n",
    "        #__init__ method only\n",
    "        def __init__(self,lenght):\n",
    "                super().__init__(self,lenght)\n",
    "        pass"
   ]
  },
  {
   "cell_type": "markdown",
   "id": "14d9d504",
   "metadata": {},
   "source": [
    "### Exercice 3:"
   ]
  },
  {
   "cell_type": "code",
   "execution_count": 1,
   "id": "46dd0e2e",
   "metadata": {},
   "outputs": [
    {
     "name": "stdout",
     "output_type": "stream",
     "text": [
      "3\n"
     ]
    },
    {
     "ename": "AttributeError",
     "evalue": "can't set attribute 'a'",
     "output_type": "error",
     "traceback": [
      "\u001b[1;31m---------------------------------------------------------------------------\u001b[0m",
      "\u001b[1;31mAttributeError\u001b[0m                            Traceback (most recent call last)",
      "\u001b[1;32m~\\AppData\\Local\\Temp/ipykernel_26784/3974146298.py\u001b[0m in \u001b[0;36m<module>\u001b[1;34m\u001b[0m\n\u001b[0;32m     12\u001b[0m \u001b[0mx\u001b[0m \u001b[1;33m=\u001b[0m \u001b[0mSampleClass\u001b[0m\u001b[1;33m(\u001b[0m\u001b[1;36m3\u001b[0m\u001b[1;33m)\u001b[0m\u001b[1;33m\u001b[0m\u001b[1;33m\u001b[0m\u001b[0m\n\u001b[0;32m     13\u001b[0m \u001b[0mprint\u001b[0m\u001b[1;33m(\u001b[0m\u001b[0mx\u001b[0m\u001b[1;33m.\u001b[0m\u001b[0ma\u001b[0m\u001b[1;33m)\u001b[0m\u001b[1;33m\u001b[0m\u001b[1;33m\u001b[0m\u001b[0m\n\u001b[1;32m---> 14\u001b[1;33m \u001b[0mx\u001b[0m\u001b[1;33m.\u001b[0m\u001b[0ma\u001b[0m \u001b[1;33m=\u001b[0m \u001b[1;36m23\u001b[0m\u001b[1;33m\u001b[0m\u001b[1;33m\u001b[0m\u001b[0m\n\u001b[0m\u001b[0;32m     15\u001b[0m \u001b[0mprint\u001b[0m\u001b[1;33m(\u001b[0m\u001b[0mx\u001b[0m\u001b[1;33m.\u001b[0m\u001b[0ma\u001b[0m\u001b[1;33m)\u001b[0m\u001b[1;33m\u001b[0m\u001b[1;33m\u001b[0m\u001b[0m\n",
      "\u001b[1;31mAttributeError\u001b[0m: can't set attribute 'a'"
     ]
    }
   ],
   "source": [
    "class SampleClass:\n",
    "\n",
    "    def __init__(self, a):\n",
    "        ## private varibale in Python\n",
    "        self.__a = a\n",
    "    \n",
    "\n",
    "    @property\n",
    "    def a(self):\n",
    "        return self.__a\n",
    "\n",
    "x = SampleClass(3)\n",
    "print(x.a)\n",
    "x.a = 23\n",
    "print(x.a)\n"
   ]
  },
  {
   "cell_type": "markdown",
   "id": "048585b9",
   "metadata": {},
   "source": [
    "Use python decorators to make the above code work"
   ]
  },
  {
   "cell_type": "code",
   "execution_count": null,
   "id": "70533302",
   "metadata": {},
   "outputs": [],
   "source": []
  },
  {
   "cell_type": "code",
   "execution_count": null,
   "id": "71ec372d",
   "metadata": {},
   "outputs": [],
   "source": []
  }
 ],
 "metadata": {
  "kernelspec": {
   "display_name": "Python 3 (ipykernel)",
   "language": "python",
   "name": "python3"
  },
  "language_info": {
   "codemirror_mode": {
    "name": "ipython",
    "version": 3
   },
   "file_extension": ".py",
   "mimetype": "text/x-python",
   "name": "python",
   "nbconvert_exporter": "python",
   "pygments_lexer": "ipython3",
   "version": "3.10.1"
  }
 },
 "nbformat": 4,
 "nbformat_minor": 5
}
