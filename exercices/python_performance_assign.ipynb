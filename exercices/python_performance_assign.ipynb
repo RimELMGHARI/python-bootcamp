{
 "cells": [
  {
   "cell_type": "markdown",
   "id": "b59d7855",
   "metadata": {},
   "source": [
    "<h1 align=\"center\">Python performance exercises</h1>"
   ]
  },
  {
   "cell_type": "markdown",
   "id": "ea1cdd43",
   "metadata": {},
   "source": [
    "## Python best practices exercises"
   ]
  },
  {
   "cell_type": "markdown",
   "id": "6237de09",
   "metadata": {},
   "source": [
    "### Exercise 1\n",
    "\n",
    "considering the following function for concatenating list strings with deliter."
   ]
  },
  {
   "cell_type": "code",
   "execution_count": 1,
   "id": "045685aa",
   "metadata": {},
   "outputs": [
    {
     "data": {
      "text/plain": [
       "'no.clue.what.im.doing'"
      ]
     },
     "execution_count": 1,
     "metadata": {},
     "output_type": "execute_result"
    }
   ],
   "source": [
    "def ft_concatenate(l_strings, d):\n",
    "    \"\"\"concatenate list of strings into one string separated by delimeter\"\"\"\n",
    "    res = l_strings[0]\n",
    "    for e in l_strings[1:]:\n",
    "        res = res + d + e\n",
    "    return res\n",
    "\n",
    "ft_concatenate(['no','clue','what','im','doing'],'.')"
   ]
  },
  {
   "cell_type": "markdown",
   "id": "2fa8e39b",
   "metadata": {},
   "source": [
    "- profile the function and identify the bottlenecks.\n",
    "- improve speed up of the function\n",
    "*Hint: you may need to look to the string functions in python documentation*"
   ]
  },
  {
   "cell_type": "code",
   "execution_count": null,
   "id": "654110b4",
   "metadata": {},
   "outputs": [],
   "source": [
    "%load_ext line_profiler\n",
    "l_strings=['no','clue','what','im','doing']\n",
    "d='.'\n",
    "%lprun -f ft_concatenate ft_concatenate(l_strings, d)\n",
    "\n",
    "'''\n",
    "The line_profiler extension is already loaded. To reload it, use:\n",
    "  %reload_ext line_profiler\n",
    "Timer unit: 1e-07 s\n",
    "\n",
    "Total time: 3.05e-05 s\n",
    "File: C:\\Users\\hp\\AppData\\Local\\Temp/ipykernel_4672/3225034489.py\n",
    "Function: ft_concatenate at line 1\n",
    "\n",
    "Line #      Hits         Time  Per Hit   % Time  Line Contents\n",
    "==============================================================\n",
    "     1                                           def ft_concatenate(l_strings, d):\n",
    "     2                                               \"\"\"concatenate list of strings into one string separated by delimeter\"\"\"\n",
    "     3         1         63.0     63.0     20.7      res = l_strings[0]\n",
    "     4         5        109.0     21.8     35.7      for e in l_strings[1:]:\n",
    "     5         4        117.0     29.2     38.4          res = res + d + e\n",
    "     6         1         16.0     16.0      5.2      return res\n",
    "'''\n",
    "#bottlrnecks present during the excution of the loop and the concatenation\n"
   ]
  },
  {
   "cell_type": "code",
   "execution_count": 9,
   "id": "63569d16",
   "metadata": {},
   "outputs": [
    {
     "name": "stdout",
     "output_type": "stream",
     "text": [
      "The line_profiler extension is already loaded. To reload it, use:\n",
      "  %reload_ext line_profiler\n"
     ]
    },
    {
     "name": "stdout",
     "output_type": "stream",
     "text": [
      "Timer unit: 1e-07 s\n",
      "\n",
      "Total time: 7.1e-06 s\n",
      "File: C:\\Users\\hp\\AppData\\Local\\Temp/ipykernel_4672/593371766.py\n",
      "Function: ft_concatenate at line 1\n",
      "\n",
      "Line #      Hits         Time  Per Hit   % Time  Line Contents\n",
      "==============================================================\n",
      "     1                                           def ft_concatenate(l_strings, d):\n",
      "     2         1         54.0     54.0     76.1      res=d.join(l_strings)\n",
      "     3         1         17.0     17.0     23.9      return res"
     ]
    }
   ],
   "source": [
    "def ft_concatenate(l_strings, d):\n",
    "    return d.join(l_strings)\n",
    "\n",
    "%load_ext line_profiler\n",
    "l_strings=['no','clue','what','im','doing']\n",
    "d='.'\n",
    "%lprun -f ft_concatenate ft_concatenate(l_strings, d)"
   ]
  },
  {
   "cell_type": "markdown",
   "id": "98731f1d",
   "metadata": {},
   "source": [
    "### Exercise 2\n",
    "\n",
    "In this exercise you will solve the following problem using two methods bruteforce mehode, and fast method.\n",
    "\n",
    "**Problem:** You are given a list of n integers, and your task is to calculate the number of distinct values in the list.\n",
    "\n",
    "**Example**\n",
    "- Input:\n",
    "5\n",
    "2 3 2 2 3\n",
    "\n",
    "- Output:\n",
    "2\n",
    "\n",
    "**Implement the following methodes:**\n",
    "\n",
    "1. **bruteforce mehode:** create an empty list and start adding items for the given list without adding the previous item add, at the end the result list will contain unique values, print lenght of the list and you are done. \n",
    "2. **fast method** think of using Set data structure.\n",
    "\n",
    "- time the two methods, what do you think?"
   ]
  },
  {
   "cell_type": "code",
   "execution_count": 10,
   "id": "dcc1edfe",
   "metadata": {},
   "outputs": [],
   "source": [
    "# bruteforce fast method\n",
    "def distinct(list):\n",
    "    L=[]\n",
    "    for i in list:\n",
    "        if i not in L:\n",
    "            L.append(i)\n",
    "    return len(L)\n"
   ]
  },
  {
   "cell_type": "code",
   "execution_count": 12,
   "id": "ac8ea8da",
   "metadata": {},
   "outputs": [],
   "source": [
    "# write fast method\n",
    "def distinctopt(list):\n",
    "    lset = set(list)\n",
    "    return len(lset)"
   ]
  },
  {
   "cell_type": "code",
   "execution_count": 15,
   "id": "fe71f9e1",
   "metadata": {},
   "outputs": [
    {
     "name": "stdout",
     "output_type": "stream",
     "text": [
      "distinct() liste 1\n",
      "3.25 µs ± 1.22 µs per loop (mean ± std. dev. of 7 runs, 1000000 loops each)\n",
      "distinctopt() liste 1\n",
      "378 ns ± 72.2 ns per loop (mean ± std. dev. of 7 runs, 1000000 loops each)\n",
      "distinct() liste 2\n",
      "1.27 µs ± 70.5 ns per loop (mean ± std. dev. of 7 runs, 1000000 loops each)\n",
      "distinctopt() liste 2\n",
      "306 ns ± 7.61 ns per loop (mean ± std. dev. of 7 runs, 1000000 loops each)\n"
     ]
    }
   ],
   "source": [
    "# Creat two random lists of numbers for testing\n",
    "import random\n",
    "\n",
    "rndml1 = []\n",
    "rndml2 = []\n",
    "for i in range(0,5):\n",
    "    rndml1.append(random.randint(1,10))\n",
    "    rndml1.append(random.randint(1,10))\n",
    "\n",
    "# time the two methods\n",
    "print(\"distinct() liste 1\")\n",
    "%timeit distinct(rndml1)\n",
    "\n",
    "print(\"distinctopt() liste 1\")\n",
    "%timeit distinctopt(rndml1)\n",
    "\n",
    "print(\"distinct() liste 2\")\n",
    "%timeit distinct(rndml1)\n",
    "\n",
    "print(\"distinctopt() liste 2\")\n",
    "%timeit distinctopt(rndml1)"
   ]
  },
  {
   "cell_type": "markdown",
   "id": "e31f48f0",
   "metadata": {},
   "source": [
    "## Cython exercises"
   ]
  },
  {
   "cell_type": "markdown",
   "id": "8b68be05",
   "metadata": {},
   "source": [
    "### Exercise 1"
   ]
  },
  {
   "cell_type": "markdown",
   "id": "49ed6e0c",
   "metadata": {},
   "source": [
    "1. load the cython extension."
   ]
  },
  {
   "cell_type": "code",
   "execution_count": 3,
   "id": "30ad9fc2",
   "metadata": {},
   "outputs": [],
   "source": [
    "%load_ext cython"
   ]
  },
  {
   "cell_type": "markdown",
   "id": "e060b4df",
   "metadata": {},
   "source": [
    "2. Condidering the following polynome function:"
   ]
  },
  {
   "cell_type": "code",
   "execution_count": 12,
   "id": "56b70f55",
   "metadata": {},
   "outputs": [],
   "source": [
    "def poly(a,b):\n",
    "    return 10.5 * a + 3 * (b**2)"
   ]
  },
  {
   "cell_type": "markdown",
   "id": "390b4827",
   "metadata": {},
   "source": [
    "- Create an equivalent Cython function of `poly` with name `poly_cy` without any cython improvement, just make its cell a cython cell."
   ]
  },
  {
   "cell_type": "code",
   "execution_count": null,
   "id": "20348ca2",
   "metadata": {},
   "outputs": [],
   "source": [
    "%%cython -a\n",
    "def poly_cy(float a,float b):\n",
    "    return 10.5 * a + 3 * (b**2)"
   ]
  },
  {
   "cell_type": "markdown",
   "id": "2d3f7f31",
   "metadata": {},
   "source": [
    "3. time the performance of Python and Cython version of the function, what is the factor of speed up here between the two verions."
   ]
  },
  {
   "cell_type": "code",
   "execution_count": null,
   "id": "960dadaa",
   "metadata": {},
   "outputs": [],
   "source": [
    "# write your code here\n",
    "a=1\n",
    "b=3\n",
    "print(\"python\")\n",
    "%timeit poly(a,b)\n",
    "\n",
    "print(\"cython\")\n",
    "%timeit poly_cy(a,b)"
   ]
  },
  {
   "cell_type": "markdown",
   "id": "f79af10e",
   "metadata": {},
   "source": [
    "4. Now lets work on another examples using loop.\n",
    "    - rewrite the same function below fib that calculate fibonacci series using cython, but now try to add type for the variables used inside it, add a prefix `_cy` to your new cython function."
   ]
  },
  {
   "cell_type": "code",
   "execution_count": 14,
   "id": "a2b6bb83",
   "metadata": {},
   "outputs": [],
   "source": [
    "def fib(n):\n",
    "    a, b = 1, 1\n",
    "    for i in range(n):\n",
    "        a, b = a + b, a\n",
    "\n",
    "    return a"
   ]
  },
  {
   "cell_type": "code",
   "execution_count": 15,
   "id": "1befb338",
   "metadata": {},
   "outputs": [],
   "source": [
    "# write your code here\n",
    "%%cython -a\n",
    "\n",
    "\n",
    "def fib_cy(int n ):\n",
    "    cdef int a =1\n",
    "    cdef int b =1\n",
    "    for i in range(n):\n",
    "        a, b = a + b, a\n",
    "    return a"
   ]
  },
  {
   "cell_type": "markdown",
   "id": "7a38e656",
   "metadata": {},
   "source": [
    "- time the two function for fibonacci series, with n = 20, what is the factor of speed now, What do you think?"
   ]
  },
  {
   "cell_type": "code",
   "execution_count": 16,
   "id": "59e90752",
   "metadata": {},
   "outputs": [],
   "source": [
    "# write your code here\n",
    "n=10\n",
    "\n",
    "print(\"python\")\n",
    "%timeit fib(n)\n",
    "\n",
    "print(\"cython\")\n",
    "%timeit fib_cy(n)"
   ]
  },
  {
   "cell_type": "markdown",
   "id": "d1687ed2",
   "metadata": {},
   "source": [
    "5. Recursive functions are functions that call themselves during their execution. Another interesting property of the Fibonacci series is that it can be written as a recursive function. That’s because each item depends on the values of other items (namely item n-1 and item n-2)\n",
    "\n",
    "- Rewrite the fib function using recursion. Is it faster than the non-recursive version? Does Cythonizing it give even more of an advantage? "
   ]
  },
  {
   "cell_type": "code",
   "execution_count": 17,
   "id": "ad3c4562",
   "metadata": {},
   "outputs": [],
   "source": [
    "# write your code here\n",
    "def recur_fib( n):\n",
    "    if n < 0:\n",
    "        print(\"use a unsigned integer\")\n",
    "\n",
    "    elif n == 0:\n",
    "        return 0\n",
    "\n",
    "    elif n == 1 or n == 2:\n",
    "        return 1\n",
    "    else:\n",
    "        return recur_fib(  n-1 )+ recur_fib( n-2)\n"
   ]
  },
  {
   "cell_type": "markdown",
   "id": "0359815f",
   "metadata": {},
   "source": [
    "### Exercise 2\n",
    "\n",
    "- Monte Carlo methods are a broad class of computational algorithms that rely on repeated random sampling to obtain numerical results. \n",
    "- One of the basic examples of getting started with the Monte Carlo algorithm is the estimation of Pi.\n",
    "\n",
    "**Estimation of Pi**\n",
    "\n",
    "- The idea is to simulate random (x, y) points in a 2-D plane with domain as a square of side 1 unit. \n",
    "- Imagine a circle inside the same domain with same diameter and inscribed into the square. \n",
    "- We then calculate the ratio of number points that lied inside the circle and total number of generated points. \n",
    "- Refer to the image below:\n",
    "\n",
    "![demo](../data/MonteCarloPlot.png)\n",
    "\n",
    "We know that area of the square is 1 unit sq while that of circle is $\\pi \\ast  (\\frac{1}{2})^{2} = \\frac{\\pi}{4}$. Now for a very large number of generated points,\n",
    "\n",
    "![demo](../data/MonteCarloCalc.png)\n",
    "\n",
    "\n",
    "## The Algorithm\n",
    "\n",
    "1. Initialize cile_points, square_points and interval to 0.\n",
    "2. Generate random point x.\n",
    "3. Generate random point y.\n",
    "4. Calculate d = x*x + y*y.\n",
    "5. If d <= 1, increment circle_points.\n",
    "6. Increment square_points.\n",
    "7. Increment interval.\n",
    "8. If increment < NO_OF_ITERATIONS, repeat from 2.\n",
    "9. Calculate pi = 4*(circle_points/square_points).\n",
    "10. Terminate."
   ]
  },
  {
   "cell_type": "markdown",
   "id": "849c429f",
   "metadata": {},
   "source": [
    "**Your mission:** time the function `monte_carlo_pi`, identify the bottlenecks and create a new version using cython functionality to speed up monte carlo simulation for PI, use 100,000 points and compare the speed up factor between python and cython, considering the following optimizations:\n",
    "- add type for variables used.\n",
    "- add type for the function\n",
    "- use c rand function instead of python rand function.\n",
    " \n",
    "*Hint: you can import function from C libraries using the following approach `from libc.<name of c library> cimport <library function name>`, replace the holders `<>` with the right identities for the current problem*"
   ]
  },
  {
   "cell_type": "code",
   "execution_count": 18,
   "id": "c34a9588",
   "metadata": {},
   "outputs": [],
   "source": [
    "%%cython -a\n",
    "import random\n",
    "\n",
    "cdef extern from \"limits.h\":\n",
    "    int INT_MAX\n",
    "\n",
    "def monte_carlo_pi_cy(int nsamples):\n",
    "    cdef int circle_points = 0\n",
    "    cdef int square_points = nsamples\n",
    "    cdef float a,b,x,y,d\n",
    "    for i in range(nsamples ):\n",
    "\n",
    "        a = rand()/float(INT_MAX)\n",
    "        b = rand()/float(INT_MAX)\n",
    "        x = -1 + 2 * a \n",
    "        y = -1 + 2 * b \n",
    "        \n",
    "        \n",
    "        d = x**2 + y**2 \n",
    "        if d <= 1:\n",
    "            circle_points+=1\n",
    "        else:\n",
    "            pass\n",
    "\n",
    "    return 4*(circle_points/square_points)"
   ]
  },
  {
   "cell_type": "markdown",
   "id": "5195f476",
   "metadata": {},
   "source": [
    "## Numba exercises"
   ]
  },
  {
   "cell_type": "markdown",
   "id": "d1c63454",
   "metadata": {},
   "source": [
    "### Exercise 1\n",
    "\n",
    "Previously we considered how to approximateby Monte Carlo.\n",
    "\n",
    "- Use the same idea here, but make the code efficient using Numba.\n",
    "- Compare speed with and without Numba when the sample size is large."
   ]
  },
  {
   "cell_type": "code",
   "execution_count": null,
   "id": "0ac18528",
   "metadata": {},
   "outputs": [],
   "source": [
    "# Your code here"
   ]
  },
  {
   "cell_type": "markdown",
   "id": "56f458fa",
   "metadata": {},
   "source": [
    "### Exercise 2\n",
    "\n",
    "In the [Introduction to Quantitative Economics](https://python.quantecon.org/intro.html) with Python lecture series you can learn all about finite-state Markov chains.\n",
    "\n",
    "For now, let's just concentrate on simulating a very simple example of such a chain.\n",
    "\n",
    "Suppose that the volatility of returns on an asset can be in one of two regimes — high or low.\n",
    "\n",
    "The transition probabilities across states are as follows ![markov](../data/markov.png)\n",
    "\n",
    "For example, let the period length be one day, and suppose the current state is high.\n",
    "\n",
    "We see from the graph that the state tomorrow will be\n",
    "\n",
    "- high with probability 0.8\n",
    "\n",
    "- low with probability 0.2\n",
    "\n",
    "Your task is to simulate a sequence of daily volatility states according to this rule.\n",
    "\n",
    "Set the length of the sequence to `n = 1_000_000` and start in the high state.\n",
    "\n",
    "Implement a pure Python version and a Numba version, and compare speeds.\n",
    "\n",
    "To test your code, evaluate the fraction of time that the chain spends in the low state.\n",
    "\n",
    "If your code is correct, it should be about 2/3.\n",
    "\n",
    "Hints:\n",
    "\n",
    "- Represent the low state as 0 and the high state as 1.\n",
    "\n",
    "- If you want to store integers in a NumPy array and then apply JIT compilation, use `x = np.empty(n, dtype=np.int_)`.\n"
   ]
  },
  {
   "cell_type": "markdown",
   "id": "a83a8da4",
   "metadata": {},
   "source": [
    "## Additionnal exercice"
   ]
  },
  {
   "cell_type": "markdown",
   "id": "8458afdd",
   "metadata": {},
   "source": []
  }
 ],
 "metadata": {
  "hide_input": false,
  "kernelspec": {
   "display_name": "Python 3",
   "language": "python",
   "name": "python3"
  },
  "language_info": {
   "codemirror_mode": {
    "name": "ipython",
    "version": 3
   },
   "file_extension": ".py",
   "mimetype": "text/x-python",
   "name": "python",
   "nbconvert_exporter": "python",
   "pygments_lexer": "ipython3",
   "version": "3.10.1"
  }
 },
 "nbformat": 4,
 "nbformat_minor": 5
}
