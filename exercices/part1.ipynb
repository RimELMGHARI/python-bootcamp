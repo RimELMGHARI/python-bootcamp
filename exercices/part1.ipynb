{
 "cells": [
  {
   "cell_type": "markdown",
   "id": "5ad7e22a",
   "metadata": {},
   "source": [
    "### Exercice 1:"
   ]
  },
  {
   "cell_type": "markdown",
   "id": "b0be8057",
   "metadata": {},
   "source": [
    "Write a function that takes a string, and two indexes (integers), and returns a slice of that string as well as the length of the string.\n",
    "Call the function, and store the results in two variables"
   ]
  },
  {
   "cell_type": "code",
   "execution_count": 24,
   "id": "fc19e47e",
   "metadata": {},
   "outputs": [
    {
     "name": "stdout",
     "output_type": "stream",
     "text": [
      "sliced string: es\n",
      "lenght of sliced string: 2\n"
     ]
    }
   ],
   "source": [
    "#Declare the function\n",
    "def slice(str,a,b):\n",
    "    return str[a:b],len(str[a:b])\n",
    "    \n",
    "#Call the function\n",
    "str=\"test\"\n",
    "res=slice(str,1,3)\n",
    "\n",
    "#print the result in a well formated format\n",
    "print(\"sliced string:\",res[0])\n",
    "print(\"lenght of sliced string:\",res[1])"
   ]
  },
  {
   "cell_type": "markdown",
   "id": "67df8c72",
   "metadata": {},
   "source": [
    "### Exercice 2:"
   ]
  },
  {
   "cell_type": "markdown",
   "id": "2a04a2e1",
   "metadata": {},
   "source": [
    "1. Write a function that takes two arguments, and returns the sum of the two.\n",
    "2. Call the function with the values 1 and 2.1, then check the type of the result.\n",
    "3. Call the function with the values False and 2, then check the type of the result."
   ]
  },
  {
   "cell_type": "code",
   "execution_count": 25,
   "id": "b9a1a7ff",
   "metadata": {},
   "outputs": [
    {
     "name": "stdout",
     "output_type": "stream",
     "text": [
      "3.1\n",
      "1\n",
      "<class 'float'>\n",
      "<class 'int'>\n"
     ]
    }
   ],
   "source": [
    "#Declare the function\n",
    "def sum(a,b):\n",
    "    return a+b\n",
    "\n",
    "#Call with the values 1 and two\n",
    "print(sum(1,2.1))\n",
    "print(sum(1,False))\n",
    "\n",
    "#Check the type of the result\n",
    "print(type(sum(1,2.1)))\n",
    "print(type(sum(1,False)))\n"
   ]
  },
  {
   "cell_type": "markdown",
   "id": "3a38d47d",
   "metadata": {},
   "source": [
    "### Exercice 3:"
   ]
  },
  {
   "cell_type": "markdown",
   "id": "40a212f8",
   "metadata": {},
   "source": [
    "Write a function that takes a string and returns a dictionary containing character frequency.\n",
    "\n",
    "*example*\n",
    "\n",
    "    string sample: 'test'\n",
    "    \n",
    "    expected result: {'t':2, 'e':1, 's':1}"
   ]
  },
  {
   "cell_type": "code",
   "execution_count": 28,
   "id": "6e0119f0",
   "metadata": {},
   "outputs": [
    {
     "data": {
      "text/plain": [
       "{'t': 2, 'e': 1, 's': 1}"
      ]
     },
     "execution_count": 28,
     "metadata": {},
     "output_type": "execute_result"
    }
   ],
   "source": [
    "#Declare the function\n",
    "def freq(str):\n",
    "    d = {}\n",
    "    for i in range (len(str)):\n",
    "        d[str[i]]=str.count(str[i])\n",
    "    return d\n",
    "\n",
    "#Print the result\n",
    "freq(\"test\")"
   ]
  },
  {
   "cell_type": "markdown",
   "id": "b9c9fad3",
   "metadata": {},
   "source": [
    "### Exercice 4:"
   ]
  },
  {
   "cell_type": "markdown",
   "id": "47b4ad19",
   "metadata": {},
   "source": [
    "Given two lists, iterate both lists simultaniously, such the first list would display item in original order and the second list in reverse order\n",
    "\n",
    "*example*:"
   ]
  },
  {
   "cell_type": "code",
   "execution_count": null,
   "id": "b3e59b61",
   "metadata": {},
   "outputs": [],
   "source": [
    "from lib import print_orl #this is a lib you dont have access to\n",
    "print_orl([1,2,3],[1,2,3])"
   ]
  },
  {
   "cell_type": "code",
   "execution_count": 35,
   "id": "9eb1eb7a",
   "metadata": {},
   "outputs": [
    {
     "name": "stdout",
     "output_type": "stream",
     "text": [
      "1 3\n",
      "2 2\n",
      "3 1\n"
     ]
    }
   ],
   "source": [
    "#...\n",
    "def rev(K,L):\n",
    "    L.reverse()\n",
    "    for i in range (len(L)):\n",
    "        print(K[i],L[i])\n",
    "\n",
    "rev([1,2,3],[1,2,3])"
   ]
  },
  {
   "cell_type": "markdown",
   "id": "8e914139",
   "metadata": {},
   "source": [
    "### Exercice 5:"
   ]
  },
  {
   "cell_type": "markdown",
   "id": "89cbdbea",
   "metadata": {},
   "source": [
    "Given two 2d arrays, stack them horizontally.\n",
    "\n",
    "*example:*"
   ]
  },
  {
   "cell_type": "code",
   "execution_count": 29,
   "id": "feabf6d6",
   "metadata": {},
   "outputs": [
    {
     "name": "stdout",
     "output_type": "stream",
     "text": [
      "[[1. 1. 1. 1. 1. 0. 0. 0. 0. 0.]\n",
      " [1. 1. 1. 1. 1. 0. 0. 0. 0. 0.]]\n"
     ]
    }
   ],
   "source": [
    "import numpy as np\n",
    "\n",
    "#The input\n",
    "a = np.ones((1, 10)).reshape(2, -1)\n",
    "b = np.zeros((1, 10)).reshape(2, -1)\n",
    "\n",
    "#Try to print input\n",
    "#...\n",
    "#print(a)\n",
    "#print(b)\n",
    "\n",
    "#concatenate horizontally\n",
    "#output shoul look like:     array([[1., 1., 1., 1., 1., 0., 0., 0., 0., 0.],\n",
    "#                                   [1., 1., 1., 1., 1., 0., 0., 0., 0., 0.]])\n",
    "\n",
    "c=np.vstack([np.concatenate([a[0], b[0]]),np.concatenate([a[1], b[1]])])\n",
    "print(c)\n"
   ]
  },
  {
   "cell_type": "markdown",
   "id": "ea04b462",
   "metadata": {},
   "source": [
    "### exercice 6:"
   ]
  },
  {
   "cell_type": "code",
   "execution_count": null,
   "id": "74f4ed9a",
   "metadata": {},
   "outputs": [],
   "source": [
    "\n",
    "# 3-dimensional array\n",
    "a= np.array([[[ 0,  1,  2],\n",
    "                     [ 3,  4,  5],\n",
    "                     [ 6,  7,  8]],\n",
    "  \n",
    "                    [[ 9, 10, 11],\n",
    "                     [12, 13, 14],\n",
    "                     [15, 16, 17]],\n",
    " \n",
    "                    [[18, 19, 20],\n",
    "                     [21, 22, 23],\n",
    "                     [24, 25, 26]]])"
   ]
  },
  {
   "cell_type": "markdown",
   "id": "15d5a0b4",
   "metadata": {},
   "source": [
    "Create the following patterns using the bellow arrays a and b, and numpy functions:"
   ]
  },
  {
   "cell_type": "code",
   "execution_count": 33,
   "id": "dbb11c06",
   "metadata": {},
   "outputs": [
    {
     "name": "stdout",
     "output_type": "stream",
     "text": [
      "[[[1. 1. 1.]\n",
      "  [1. 1. 1.]\n",
      "  [1. 1. 1.]]\n",
      "\n",
      " [[0. 0. 0.]\n",
      "  [1. 1. 1.]\n",
      "  [2. 2. 2.]]\n",
      "\n",
      " [[1. 1. 1.]\n",
      "  [1. 1. 1.]\n",
      "  [1. 1. 1.]]]\n"
     ]
    }
   ],
   "source": [
    "a = np.arange(3)\n",
    "b = np.ones((3,3,3))\n",
    "\n",
    "#print(a)\n",
    "#print(b)\n",
    "\n",
    "#output1 the following array: array([0, 0, 0, 1, 1, 1, 2, 2, 2, 0, 1, 2, 0, 1, 2, 0, 1, 2])\n",
    "#...\n",
    "for i in range(3):\n",
    "    b[1][i]=i\n",
    "print(b)\n",
    "#output2 the follwing array: array([[[1., 2., 3.],\n",
    "#                                    [1., 2., 3.],\n",
    "#                                    [1., 2., 3.]],\n",
    "\n",
    "#                                    [[1., 2., 3.],\n",
    "#                                    [1., 2., 3.],\n",
    "#                                    [1., 2., 3.]],\n",
    "\n",
    "#                                    [[1., 2., 3.],\n",
    "#                                    [1., 2., 3.],\n",
    "#                                    [1., 2., 3.]]])\n",
    "\n",
    "\n",
    "\n",
    "#output3 array([[1., 1., 1., 1., 1., 1., 1., 1., 1.],\n",
    "#                [1., 1., 1., 1., 1., 1., 1., 1., 1.],\n",
    "#                [1., 1., 1., 1., 1., 1., 1., 1., 1.]])\n",
    "\n"
   ]
  }
 ],
 "metadata": {
  "kernelspec": {
   "display_name": "Python 3 (ipykernel)",
   "language": "python",
   "name": "python3"
  },
  "language_info": {
   "codemirror_mode": {
    "name": "ipython",
    "version": 3
   },
   "file_extension": ".py",
   "mimetype": "text/x-python",
   "name": "python",
   "nbconvert_exporter": "python",
   "pygments_lexer": "ipython3",
   "version": "3.10.1"
  }
 },
 "nbformat": 4,
 "nbformat_minor": 5
}
